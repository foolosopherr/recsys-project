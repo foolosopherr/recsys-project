{
 "cells": [
  {
   "cell_type": "code",
   "execution_count": 11,
   "id": "1a29c890-bed6-48c4-a5d7-f2b98bc33c9e",
   "metadata": {},
   "outputs": [],
   "source": [
    "import pandas as pd\n",
    "import numpy as np\n",
    "from scipy.sparse._csr import csr_matrix\n",
    "from scipy.sparse._coo import coo_matrix\n",
    "\n",
    "from typing import Tuple"
   ]
  },
  {
   "cell_type": "code",
   "execution_count": 5,
   "id": "e206fc8a-dd30-4fb3-8035-dba222333869",
   "metadata": {},
   "outputs": [
    {
     "ename": "ModuleNotFoundError",
     "evalue": "No module named 'data_preprocessing_first'",
     "output_type": "error",
     "traceback": [
      "\u001b[0;31m---------------------------------------------------------------------------\u001b[0m",
      "\u001b[0;31mModuleNotFoundError\u001b[0m                       Traceback (most recent call last)",
      "Cell \u001b[0;32mIn [5], line 1\u001b[0m\n\u001b[0;32m----> 1\u001b[0m \u001b[38;5;28;01mfrom\u001b[39;00m \u001b[38;5;21;01mdata_preprocessing_first\u001b[39;00m \u001b[38;5;28;01mimport\u001b[39;00m preprocess_all_three_datasets\n",
      "\u001b[0;31mModuleNotFoundError\u001b[0m: No module named 'data_preprocessing_first'"
     ]
    }
   ],
   "source": [
    "from data_preprocessing_first import preprocess_all_three_datasets"
   ]
  },
  {
   "cell_type": "code",
   "execution_count": 2,
   "id": "e9c42b42-36db-4a23-833b-43306e13b137",
   "metadata": {},
   "outputs": [
    {
     "name": "stdout",
     "output_type": "stream",
     "text": [
      "Interactions CSV file loaded successfully\n",
      "Users CSV file loaded successfully\n",
      "Items CSV file loaded successfully\n"
     ]
    }
   ],
   "source": [
    "users_df, items_df, interactions_df = preprocess_all_three_datasets(path='../data/',\n",
    "                                                                    to_save=False)"
   ]
  },
  {
   "cell_type": "code",
   "execution_count": 6,
   "id": "0acd43e4-4c93-4063-9179-0bec57cbf93a",
   "metadata": {},
   "outputs": [],
   "source": [
    "from lightfm_dataset_preparation import create_lightfm_dataset"
   ]
  },
  {
   "cell_type": "code",
   "execution_count": 7,
   "id": "08927e36-2634-4ddc-96fc-382a28820b45",
   "metadata": {},
   "outputs": [],
   "source": [
    "interactions_df, items_df, users_df, dataset, users_features, items_features, user_ids_buffered, item_ids_buffered, interactions, weights = create_lightfm_dataset(path='../data/')"
   ]
  },
  {
   "cell_type": "code",
   "execution_count": 12,
   "id": "d3023105-6e61-4b93-9ada-1931c6fbb160",
   "metadata": {},
   "outputs": [],
   "source": [
    "def random_search(train: csr_matrix, test: csr_matrix, train_weights: csr_matrix, users_features: csr_matrix, items_features: csr_matrix, num_samples: int) -> Tuple:\n",
    "    \n",
    "    \"\"\"\n",
    "    Iterating \n",
    "    \"\"\"\n",
    "    \n",
    "    for hyperparams in itertools.islice(sample_hyperparameters(), num_samples):\n",
    "        num_epochs = hyperparams.pop(\"num_epochs\")\n",
    "\n",
    "        model = LightFM(**hyperparams)\n",
    "        model.fit(\n",
    "            interactions=train,\n",
    "            sample_weight=train_weights,\n",
    "            item_features=items_features,\n",
    "            user_features=users_features,\n",
    "            verbose=True,\n",
    "            epochs=num_epochs,\n",
    "            num_threads=20,\n",
    "          )\n",
    "\n",
    "        auc_score_train = auc_score(model, \n",
    "                                    train, \n",
    "                                    user_features=users_features, \n",
    "                                    item_features=items_features, \n",
    "                                    train_interactions=train, \n",
    "                                    num_threads=20, \n",
    "                                    check_intersections=False).mean()\n",
    "        auc_score_test = auc_score(model, \n",
    "                                   test, \n",
    "                                   user_features=users_features, \n",
    "                                   item_features=items_features, \n",
    "                                   train_interactions=train, \n",
    "                                   num_threads=20, \n",
    "                                   check_intersections=False).mean()\n",
    "\n",
    "        train_precision = precision_at_k(model, \n",
    "                                         train, \n",
    "                                         user_features=users_features, \n",
    "                                         item_features=items_features, \n",
    "                                         k=5, \n",
    "                                         num_threads=20, \n",
    "                                         check_intersections=False).mean()\n",
    "        test_precision = precision_at_k(model, \n",
    "                                        test, \n",
    "                                        user_features=users_features, \n",
    "                                        item_features=items_features, \n",
    "                                        k=5, \n",
    "                                        num_threads=20, \n",
    "                                        check_intersections=False).mean()\n",
    "\n",
    "        hyperparams[\"num_epochs\"] = num_epochs\n",
    "\n",
    "        print(auc_score_train, auc_score_test, train_precision, test_precision, hyperparams, model)\n",
    "\n",
    "        yield (auc_score_train, auc_score_test, train_precision, test_precision, hyperparams, model)\n",
    "\n",
    "def lightfm_random_search(interactions: csr_matrix, weights: csr_matrix, users_features: csr_matrix, items_features: csr_matrix, test_percentage: float, num_samples: int) -> Tuple:\n",
    "    \n",
    "    train, test = random_train_test_split(interactions, test_percentage=test_percentage, random_state=42)\n",
    "    train_weights, test_weights = random_train_test_split(weights, test_percentage=test_percentage, random_state=42)\n",
    "    \n",
    "    (auc_score_train, auc_score_test, train_precision, test_precision, hyperparams, model) = max(random_search(train, test, train_weights, users_features, items_features, num_samples), key=lambda x: x[1])\n",
    "    \n",
    "    print(f'Best model: Train AUC {auc_score_train:.5f}, Test AUC {auc_score_test:.5f}')\n",
    "    print(f'            Train Precision@5 {train_precision:.5f}, Test Precision@5 {test_precision:.5f}')\n",
    "    \n",
    "    return hyperparams, model"
   ]
  },
  {
   "cell_type": "code",
   "execution_count": 24,
   "id": "e4bb7faa-992e-470b-bf98-83d13882f80f",
   "metadata": {},
   "outputs": [
    {
     "data": {
      "text/plain": [
       "scipy.sparse._coo.coo_matrix"
      ]
     },
     "execution_count": 24,
     "metadata": {},
     "output_type": "execute_result"
    }
   ],
   "source": [
    "type(interactions)"
   ]
  },
  {
   "cell_type": "code",
   "execution_count": 20,
   "id": "8bb412b3-113d-4f43-90d5-d0a427b1b5d4",
   "metadata": {},
   "outputs": [
    {
     "data": {
      "text/plain": [
       "(135677, 59599)"
      ]
     },
     "execution_count": 20,
     "metadata": {},
     "output_type": "execute_result"
    }
   ],
   "source": [
    "interactions = interactions.toarray()[:5000]"
   ]
  },
  {
   "cell_type": "code",
   "execution_count": null,
   "id": "2b3d29dc-3aa6-4955-b8ab-05478886e3d6",
   "metadata": {},
   "outputs": [
    {
     "name": "stderr",
     "output_type": "stream",
     "text": [
      "Epoch: 100%|████████████████████████████████████| 16/16 [00:44<00:00,  2.81s/it]\n"
     ]
    }
   ],
   "source": [
    "lightfm_random_search(interactions, weights, users_features, items_features, 0.2, 2)"
   ]
  },
  {
   "cell_type": "code",
   "execution_count": 9,
   "id": "3cf76851-9c89-4a4b-9482-40c468b0e167",
   "metadata": {},
   "outputs": [
    {
     "name": "stdout",
     "output_type": "stream",
     "text": [
      "fuck\n",
      "fuck\n",
      "fuck\n",
      "fuck\n",
      "fuck\n",
      "fuck\n",
      "fuck\n",
      "fuck\n",
      "fuck\n",
      "fuck\n"
     ]
    }
   ],
   "source": [
    "for hyperparams in itertools.islice(sample_hyperparameters(), 10):\n",
    "    print('fuck')"
   ]
  },
  {
   "cell_type": "code",
   "execution_count": null,
   "id": "9f1e1920-57ac-4120-bf8d-da4426cbb60f",
   "metadata": {},
   "outputs": [],
   "source": []
  }
 ],
 "metadata": {
  "kernelspec": {
   "display_name": "Python 3 (ipykernel)",
   "language": "python",
   "name": "python3"
  },
  "language_info": {
   "codemirror_mode": {
    "name": "ipython",
    "version": 3
   },
   "file_extension": ".py",
   "mimetype": "text/x-python",
   "name": "python",
   "nbconvert_exporter": "python",
   "pygments_lexer": "ipython3",
   "version": "3.8.13"
  }
 },
 "nbformat": 4,
 "nbformat_minor": 5
}
