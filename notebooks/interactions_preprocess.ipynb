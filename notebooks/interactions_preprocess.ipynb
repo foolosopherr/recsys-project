{
 "cells": [
  {
   "cell_type": "code",
   "execution_count": 1,
   "metadata": {
    "executionInfo": {
     "elapsed": 406,
     "status": "ok",
     "timestamp": 1699060566150,
     "user": {
      "displayName": "Aleksandr Petrov",
      "userId": "16990686832318964698"
     },
     "user_tz": -180
    },
    "id": "mBthAUwfnMLP"
   },
   "outputs": [],
   "source": [
    "import pandas as pd\n",
    "import numpy as np\n",
    "import matplotlib.pyplot as plt\n",
    "from tqdm.notebook import tqdm\n",
    "\n",
    "tqdm.pandas()"
   ]
  },
  {
   "cell_type": "code",
   "execution_count": 2,
   "metadata": {
    "colab": {
     "base_uri": "https://localhost:8080/"
    },
    "executionInfo": {
     "elapsed": 2834,
     "status": "ok",
     "timestamp": 1699060571227,
     "user": {
      "displayName": "Aleksandr Petrov",
      "userId": "16990686832318964698"
     },
     "user_tz": -180
    },
    "id": "lhUg65hTnaMw",
    "outputId": "ba5a555c-e5bd-4545-df25-3ecf67c22377"
   },
   "outputs": [
    {
     "data": {
      "text/plain": [
       "(1533078, 5)"
      ]
     },
     "execution_count": 2,
     "metadata": {},
     "output_type": "execute_result"
    }
   ],
   "source": [
    "path = '/content/drive/MyDrive/Магистратура/Экспертные и рекомендательные системы/Курсовая работа v2/data/'\n",
    "\n",
    "interactions_df = pd.read_csv(path+'interactions.csv')\n",
    "interactions_df.shape"
   ]
  },
  {
   "cell_type": "code",
   "execution_count": 3,
   "metadata": {
    "colab": {
     "base_uri": "https://localhost:8080/"
    },
    "executionInfo": {
     "elapsed": 646,
     "status": "ok",
     "timestamp": 1699060577879,
     "user": {
      "displayName": "Aleksandr Petrov",
      "userId": "16990686832318964698"
     },
     "user_tz": -180
    },
    "id": "DAflbriPnkuv",
    "outputId": "49d92d65-5621-46ff-bc24-45217142e1e7"
   },
   "outputs": [
    {
     "data": {
      "text/plain": [
       "user_id             0\n",
       "item_id             0\n",
       "progress            0\n",
       "rating        1247722\n",
       "start_date          0\n",
       "dtype: int64"
      ]
     },
     "execution_count": 3,
     "metadata": {},
     "output_type": "execute_result"
    }
   ],
   "source": [
    "interactions_df.isna().sum()"
   ]
  },
  {
   "cell_type": "code",
   "execution_count": 4,
   "metadata": {
    "executionInfo": {
     "elapsed": 409,
     "status": "ok",
     "timestamp": 1699060610086,
     "user": {
      "displayName": "Aleksandr Petrov",
      "userId": "16990686832318964698"
     },
     "user_tz": -180
    },
    "id": "lXmHb8rgnaL1"
   },
   "outputs": [],
   "source": [
    "interactions_df.fillna(0, inplace=True)"
   ]
  },
  {
   "cell_type": "code",
   "execution_count": 5,
   "metadata": {
    "executionInfo": {
     "elapsed": 234,
     "status": "ok",
     "timestamp": 1699060617934,
     "user": {
      "displayName": "Aleksandr Petrov",
      "userId": "16990686832318964698"
     },
     "user_tz": -180
    },
    "id": "SENjutHCo1_m"
   },
   "outputs": [],
   "source": [
    "interactions_df['start_date'] = pd.to_datetime(interactions_df['start_date'])\n",
    "interactions_df['year'] = interactions_df['start_date'].dt.year\n",
    "interactions_df['month'] = interactions_df['start_date'].dt.month"
   ]
  },
  {
   "cell_type": "code",
   "execution_count": 6,
   "metadata": {
    "colab": {
     "base_uri": "https://localhost:8080/"
    },
    "executionInfo": {
     "elapsed": 245,
     "status": "ok",
     "timestamp": 1699060623462,
     "user": {
      "displayName": "Aleksandr Petrov",
      "userId": "16990686832318964698"
     },
     "user_tz": -180
    },
    "id": "U0W4SwuxnaKM",
    "outputId": "e892316f-e20a-416c-8430-a1a216c4fcab"
   },
   "outputs": [
    {
     "data": {
      "text/plain": [
       "0.0    0.813867\n",
       "5.0    0.140055\n",
       "4.0    0.026343\n",
       "3.0    0.011920\n",
       "1.0    0.003989\n",
       "2.0    0.003825\n",
       "Name: rating, dtype: float64"
      ]
     },
     "execution_count": 6,
     "metadata": {},
     "output_type": "execute_result"
    }
   ],
   "source": [
    "interactions_df['rating'].value_counts(normalize=True)"
   ]
  },
  {
   "cell_type": "code",
   "execution_count": 7,
   "metadata": {
    "executionInfo": {
     "elapsed": 237,
     "status": "ok",
     "timestamp": 1699060632182,
     "user": {
      "displayName": "Aleksandr Petrov",
      "userId": "16990686832318964698"
     },
     "user_tz": -180
    },
    "id": "h1VCRO7tyK_1"
   },
   "outputs": [],
   "source": [
    "def most_popular_item(interactions_df, year=None, month=None):\n",
    "  temp_ = interactions_df[['item_id', 'rating', 'year', 'month']].copy()\n",
    "\n",
    "  if not year and not month:\n",
    "    temp_ = temp_[['item_id', 'rating']].dropna().groupby('item_id')['rating'].agg(['mean', 'count']).sort_values(by=['mean', 'count'], ascending=False)\n",
    "\n",
    "  elif year and not month:\n",
    "    temp_ = temp_[['item_id', 'rating', 'year']]\n",
    "    temp_ = temp_[temp_['year'] == year]\n",
    "    temp_ = temp_.dropna().groupby('item_id')['rating'].agg(['mean', 'count']).sort_values(by=['mean', 'count'], ascending=False)\n",
    "\n",
    "  elif not year and month:\n",
    "    temp_ = temp_[['item_id', 'rating', 'month']]\n",
    "    temp_ = temp_[temp_['month'] == month]\n",
    "    temp_ = temp_.dropna().groupby('item_id')['rating'].agg(['mean', 'count']).sort_values(by=['mean', 'count'], ascending=False)\n",
    "\n",
    "  else:\n",
    "    temp_ = temp_[['item_id', 'rating', 'year', 'month']]\n",
    "    temp_ = temp_[(temp_['month'] == month) & (temp_['year'] == year)]\n",
    "    temp_ = temp_.dropna().groupby('item_id')['rating'].agg(['mean', 'count']).sort_values(by=['mean', 'count'], ascending=False)\n",
    "\n",
    "  top = temp_.index[:10]\n",
    "  return top.values"
   ]
  },
  {
   "cell_type": "code",
   "execution_count": 8,
   "metadata": {
    "executionInfo": {
     "elapsed": 2010,
     "status": "ok",
     "timestamp": 1699060636817,
     "user": {
      "displayName": "Aleksandr Petrov",
      "userId": "16990686832318964698"
     },
     "user_tz": -180
    },
    "id": "q_kHHvYX3Mt1"
   },
   "outputs": [],
   "source": [
    "best_books_time = {}\n",
    "\n",
    "for year in [None, 2018, 2019]:\n",
    "  for month in [None] + list(range(1, 13)):\n",
    "    top = most_popular_item(interactions_df, year, month)\n",
    "    best_books_time[f\"{year}_{month}\"] = top"
   ]
  },
  {
   "cell_type": "code",
   "execution_count": 65,
   "metadata": {
    "executionInfo": {
     "elapsed": 6,
     "status": "ok",
     "timestamp": 1698981950611,
     "user": {
      "displayName": "Aleksandr Petrov",
      "userId": "16990686832318964698"
     },
     "user_tz": -180
    },
    "id": "OL5sH5-i6ukT"
   },
   "outputs": [],
   "source": [
    "import pickle\n",
    "\n",
    "with open(path+'best_books_time.pickle', 'wb') as handle:\n",
    "  pickle.dump(best_books_time, handle)"
   ]
  },
  {
   "cell_type": "code",
   "execution_count": 52,
   "metadata": {
    "executionInfo": {
     "elapsed": 1893,
     "status": "ok",
     "timestamp": 1698976935532,
     "user": {
      "displayName": "Aleksandr Petrov",
      "userId": "16990686832318964698"
     },
     "user_tz": -180
    },
    "id": "syvC8CJep7fP"
   },
   "outputs": [],
   "source": [
    "interactions_df.loc[interactions_df['rating'].isna(), ['user_id', 'item_id']].to_csv(path+'saw_but_didnt_rate.csv', index=False)"
   ]
  },
  {
   "cell_type": "code",
   "execution_count": 13,
   "metadata": {
    "executionInfo": {
     "elapsed": 269,
     "status": "ok",
     "timestamp": 1699060956634,
     "user": {
      "displayName": "Aleksandr Petrov",
      "userId": "16990686832318964698"
     },
     "user_tz": -180
    },
    "id": "lIlmRq9tnaFh"
   },
   "outputs": [],
   "source": [
    "interactions_df['sequence'] = interactions_df.groupby('user_id').cumcount() + 1"
   ]
  },
  {
   "cell_type": "code",
   "execution_count": 21,
   "metadata": {
    "executionInfo": {
     "elapsed": 4262,
     "status": "ok",
     "timestamp": 1699061107102,
     "user": {
      "displayName": "Aleksandr Petrov",
      "userId": "16990686832318964698"
     },
     "user_tz": -180
    },
    "id": "ujK60pad7EXp"
   },
   "outputs": [],
   "source": [
    "interactions_df.drop(columns=['progress']).to_csv(path+'interactions_clean.csv', index=False)"
   ]
  },
  {
   "cell_type": "code",
   "execution_count": null,
   "metadata": {
    "id": "UuXbALZK7VBy"
   },
   "outputs": [],
   "source": []
  }
 ],
 "metadata": {
  "colab": {
   "authorship_tag": "ABX9TyOTkZk1YqY9F4kE5Q22Lhwg",
   "mount_file_id": "16x0HkV0iDG_F-EuyYhiq2YrrJMWFOp-m",
   "provenance": []
  },
  "kernelspec": {
   "display_name": "Python 3 (ipykernel)",
   "language": "python",
   "name": "python3"
  },
  "language_info": {
   "codemirror_mode": {
    "name": "ipython",
    "version": 3
   },
   "file_extension": ".py",
   "mimetype": "text/x-python",
   "name": "python",
   "nbconvert_exporter": "python",
   "pygments_lexer": "ipython3",
   "version": "3.8.13"
  }
 },
 "nbformat": 4,
 "nbformat_minor": 4
}
