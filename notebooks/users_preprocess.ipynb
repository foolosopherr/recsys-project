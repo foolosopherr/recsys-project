{
 "cells": [
  {
   "cell_type": "code",
   "execution_count": 1,
   "metadata": {
    "executionInfo": {
     "elapsed": 444,
     "status": "ok",
     "timestamp": 1698982691415,
     "user": {
      "displayName": "Aleksandr Petrov",
      "userId": "16990686832318964698"
     },
     "user_tz": -180
    },
    "id": "myi9ifi7j-JE"
   },
   "outputs": [],
   "source": [
    "import pandas as pd\n",
    "import numpy as np\n",
    "import matplotlib.pyplot as plt\n",
    "from tqdm.notebook import tqdm\n",
    "\n",
    "tqdm.pandas()"
   ]
  },
  {
   "cell_type": "code",
   "execution_count": 4,
   "metadata": {
    "colab": {
     "base_uri": "https://localhost:8080/"
    },
    "executionInfo": {
     "elapsed": 1294,
     "status": "ok",
     "timestamp": 1698982727551,
     "user": {
      "displayName": "Aleksandr Petrov",
      "userId": "16990686832318964698"
     },
     "user_tz": -180
    },
    "id": "EOwcuAsGkKZM",
    "outputId": "9cadc754-ed81-45b4-c0fd-a37a8b8a53e1"
   },
   "outputs": [
    {
     "data": {
      "text/plain": [
       "(142888, 3)"
      ]
     },
     "execution_count": 4,
     "metadata": {},
     "output_type": "execute_result"
    }
   ],
   "source": [
    "path = '/content/drive/MyDrive/Магистратура/Экспертные и рекомендательные системы/Курсовая работа v2/data/'\n",
    "\n",
    "users_df = pd.read_csv(path+'users.csv')\n",
    "users_df.shape"
   ]
  },
  {
   "cell_type": "code",
   "execution_count": 5,
   "metadata": {
    "colab": {
     "base_uri": "https://localhost:8080/"
    },
    "executionInfo": {
     "elapsed": 313,
     "status": "ok",
     "timestamp": 1698982732974,
     "user": {
      "displayName": "Aleksandr Petrov",
      "userId": "16990686832318964698"
     },
     "user_tz": -180
    },
    "id": "hsL9Qn7ZkKXy",
    "outputId": "02e13ae1-d178-4c0e-95cc-df04acda6347"
   },
   "outputs": [
    {
     "data": {
      "text/plain": [
       "user_id       0\n",
       "age         146\n",
       "sex        6262\n",
       "dtype: int64"
      ]
     },
     "execution_count": 5,
     "metadata": {},
     "output_type": "execute_result"
    }
   ],
   "source": [
    "users_df.isna().sum()"
   ]
  },
  {
   "cell_type": "code",
   "execution_count": 6,
   "metadata": {
    "executionInfo": {
     "elapsed": 3,
     "status": "ok",
     "timestamp": 1698982734005,
     "user": {
      "displayName": "Aleksandr Petrov",
      "userId": "16990686832318964698"
     },
     "user_tz": -180
    },
    "id": "X318C0EbkKUg"
   },
   "outputs": [],
   "source": [
    "age_replace = {\n",
    "    '18_24': '18-24',\n",
    "    '25_34': '25-34',\n",
    "    '35_44': '35-44',\n",
    "    '55_64': '55-64',\n",
    "    '45_54': '45-54',\n",
    "    '65_inf': '65+'\n",
    "}\n",
    "\n",
    "users_df['age'] = users_df['age'].replace(age_replace).fillna('age_unknown')"
   ]
  },
  {
   "cell_type": "code",
   "execution_count": 7,
   "metadata": {
    "executionInfo": {
     "elapsed": 5,
     "status": "ok",
     "timestamp": 1698982734825,
     "user": {
      "displayName": "Aleksandr Petrov",
      "userId": "16990686832318964698"
     },
     "user_tz": -180
    },
    "id": "puflMNrXkKS_"
   },
   "outputs": [],
   "source": [
    "sex_replace = {\n",
    "    1.0: 'Мужской',\n",
    "    0.0: 'Женский'\n",
    "}\n",
    "\n",
    "users_df['sex'] = users_df['sex'].replace(sex_replace).fillna('sex_unknown')"
   ]
  },
  {
   "cell_type": "code",
   "execution_count": 8,
   "metadata": {
    "executionInfo": {
     "elapsed": 957,
     "status": "ok",
     "timestamp": 1698982736883,
     "user": {
      "displayName": "Aleksandr Petrov",
      "userId": "16990686832318964698"
     },
     "user_tz": -180
    },
    "id": "BKvOlmfgkKPt"
   },
   "outputs": [],
   "source": [
    "users_df.to_csv(path+'users_clean.csv', index=False)"
   ]
  },
  {
   "cell_type": "code",
   "execution_count": null,
   "metadata": {
    "id": "8FGxNHfXkKNy"
   },
   "outputs": [],
   "source": []
  }
 ],
 "metadata": {
  "colab": {
   "authorship_tag": "ABX9TyM10SpUxfjHKm4mvFeanoTB",
   "mount_file_id": "18M4a4dtUu5OaWSyWXT_EB583atBN3DED",
   "provenance": []
  },
  "kernelspec": {
   "display_name": "Python 3 (ipykernel)",
   "language": "python",
   "name": "python3"
  },
  "language_info": {
   "codemirror_mode": {
    "name": "ipython",
    "version": 3
   },
   "file_extension": ".py",
   "mimetype": "text/x-python",
   "name": "python",
   "nbconvert_exporter": "python",
   "pygments_lexer": "ipython3",
   "version": "3.8.13"
  }
 },
 "nbformat": 4,
 "nbformat_minor": 4
}
