{
 "cells": [
  {
   "cell_type": "code",
   "execution_count": 1,
   "id": "85a11602-d7ce-4611-924e-0ade398f1253",
   "metadata": {},
   "outputs": [
    {
     "name": "stderr",
     "output_type": "stream",
     "text": [
      "[nltk_data] Downloading package stopwords to /Users/ola/nltk_data...\n",
      "[nltk_data]   Package stopwords is already up-to-date!\n",
      "/Users/ola/miniforge3/envs/pycaret_env/lib/python3.8/site-packages/lightfm/_lightfm_fast.py:9: UserWarning: LightFM was compiled without OpenMP support. Only a single thread will be used.\n",
      "  warnings.warn(\n"
     ]
    }
   ],
   "source": [
    "import pandas as pd\n",
    "from simplemma import text_lemmatizer\n",
    "import numpy as np\n",
    "import nltk\n",
    "import re\n",
    "from typing import Tuple, Any\n",
    "import pytest\n",
    "import sys\n",
    "\n",
    "sys.path.append('../recsys_project/')\n",
    "\n",
    "nltk.download(\"stopwords\")\n",
    "\n",
    "from lightfm_dataset_preparation import *"
   ]
  },
  {
   "cell_type": "code",
   "execution_count": 3,
   "id": "c5fbafb9-c077-4abd-bc51-dfbae8828ca1",
   "metadata": {},
   "outputs": [],
   "source": [
    "sys.path.append('../recsys_project/')\n",
    "from lightfm_model import *\n",
    "from typing import Tuple, types\n",
    "\n",
    "def test_random_search():\n",
    "    train = coo_matrix([[0, 1], [1, 0]])\n",
    "    test = coo_matrix([[1, 0], [0, 1]])\n",
    "    train_weights = coo_matrix([[0, 3], [2, 0]])\n",
    "    users_features = csr_matrix([[1, 0], [0, 1]])\n",
    "    items_features = csr_matrix([[1, 0], [0, 1]])\n",
    "    num_samples = 3\n",
    "\n",
    "    result_generator = random_search(train, test, train_weights, users_features, items_features, num_samples)\n",
    "\n",
    "    assert isinstance(result_generator, types.GeneratorType)\n",
    "\n",
    "    for result in result_generator:\n",
    "        print(result)"
   ]
  },
  {
   "cell_type": "code",
   "execution_count": 4,
   "id": "d1a4c3e6-7502-43dc-8d62-d6d6945a461e",
   "metadata": {},
   "outputs": [
    {
     "ename": "ValueError",
     "evalue": "Sample weight and interaction matrix entries must be in the same order",
     "output_type": "error",
     "traceback": [
      "\u001b[0;31m---------------------------------------------------------------------------\u001b[0m",
      "\u001b[0;31mValueError\u001b[0m                                Traceback (most recent call last)",
      "Cell \u001b[0;32mIn [4], line 1\u001b[0m\n\u001b[0;32m----> 1\u001b[0m \u001b[43mtest_random_search\u001b[49m\u001b[43m(\u001b[49m\u001b[43m)\u001b[49m\n",
      "Cell \u001b[0;32mIn [3], line 17\u001b[0m, in \u001b[0;36mtest_random_search\u001b[0;34m()\u001b[0m\n\u001b[1;32m     13\u001b[0m result_generator \u001b[38;5;241m=\u001b[39m random_search(train, test, train_weights, users_features, items_features, num_samples)\n\u001b[1;32m     15\u001b[0m \u001b[38;5;28;01massert\u001b[39;00m \u001b[38;5;28misinstance\u001b[39m(result_generator, types\u001b[38;5;241m.\u001b[39mGeneratorType)\n\u001b[0;32m---> 17\u001b[0m \u001b[38;5;28;01mfor\u001b[39;00m result \u001b[38;5;129;01min\u001b[39;00m result_generator:\n\u001b[1;32m     18\u001b[0m     \u001b[38;5;28mprint\u001b[39m(result)\n",
      "File \u001b[0;32m~/Desktop/Магистратура/Экспертные и рекомендательные системы/инженерия мл/tests/../recsys_project/lightfm_model.py:45\u001b[0m, in \u001b[0;36mrandom_search\u001b[0;34m(train, test, train_weights, users_features, items_features, num_samples)\u001b[0m\n\u001b[1;32m     42\u001b[0m num_epochs \u001b[38;5;241m=\u001b[39m hyperparams\u001b[38;5;241m.\u001b[39mpop(\u001b[38;5;124m\"\u001b[39m\u001b[38;5;124mnum_epochs\u001b[39m\u001b[38;5;124m\"\u001b[39m)\n\u001b[1;32m     44\u001b[0m model \u001b[38;5;241m=\u001b[39m LightFM(\u001b[38;5;241m*\u001b[39m\u001b[38;5;241m*\u001b[39mhyperparams)\n\u001b[0;32m---> 45\u001b[0m \u001b[43mmodel\u001b[49m\u001b[38;5;241;43m.\u001b[39;49m\u001b[43mfit\u001b[49m\u001b[43m(\u001b[49m\n\u001b[1;32m     46\u001b[0m \u001b[43m    \u001b[49m\u001b[43minteractions\u001b[49m\u001b[38;5;241;43m=\u001b[39;49m\u001b[43mtrain\u001b[49m\u001b[43m,\u001b[49m\n\u001b[1;32m     47\u001b[0m \u001b[43m    \u001b[49m\u001b[43msample_weight\u001b[49m\u001b[38;5;241;43m=\u001b[39;49m\u001b[43mtrain_weights\u001b[49m\u001b[43m,\u001b[49m\n\u001b[1;32m     48\u001b[0m \u001b[43m    \u001b[49m\u001b[43mitem_features\u001b[49m\u001b[38;5;241;43m=\u001b[39;49m\u001b[43mitems_features\u001b[49m\u001b[43m,\u001b[49m\n\u001b[1;32m     49\u001b[0m \u001b[43m    \u001b[49m\u001b[43muser_features\u001b[49m\u001b[38;5;241;43m=\u001b[39;49m\u001b[43musers_features\u001b[49m\u001b[43m,\u001b[49m\n\u001b[1;32m     50\u001b[0m \u001b[43m    \u001b[49m\u001b[43mverbose\u001b[49m\u001b[38;5;241;43m=\u001b[39;49m\u001b[38;5;28;43;01mTrue\u001b[39;49;00m\u001b[43m,\u001b[49m\n\u001b[1;32m     51\u001b[0m \u001b[43m    \u001b[49m\u001b[43mepochs\u001b[49m\u001b[38;5;241;43m=\u001b[39;49m\u001b[43mnum_epochs\u001b[49m\u001b[43m,\u001b[49m\n\u001b[1;32m     52\u001b[0m \u001b[43m    \u001b[49m\u001b[43mnum_threads\u001b[49m\u001b[38;5;241;43m=\u001b[39;49m\u001b[38;5;241;43m20\u001b[39;49m\u001b[43m,\u001b[49m\n\u001b[1;32m     53\u001b[0m \u001b[43m\u001b[49m\u001b[43m)\u001b[49m\n\u001b[1;32m     55\u001b[0m auc_score_train \u001b[38;5;241m=\u001b[39m auc_score(\n\u001b[1;32m     56\u001b[0m     model,\n\u001b[1;32m     57\u001b[0m     train,\n\u001b[0;32m   (...)\u001b[0m\n\u001b[1;32m     62\u001b[0m     check_intersections\u001b[38;5;241m=\u001b[39m\u001b[38;5;28;01mFalse\u001b[39;00m,\n\u001b[1;32m     63\u001b[0m )\u001b[38;5;241m.\u001b[39mmean()\n\u001b[1;32m     64\u001b[0m auc_score_test \u001b[38;5;241m=\u001b[39m auc_score(\n\u001b[1;32m     65\u001b[0m     model,\n\u001b[1;32m     66\u001b[0m     test,\n\u001b[0;32m   (...)\u001b[0m\n\u001b[1;32m     71\u001b[0m     check_intersections\u001b[38;5;241m=\u001b[39m\u001b[38;5;28;01mFalse\u001b[39;00m,\n\u001b[1;32m     72\u001b[0m )\u001b[38;5;241m.\u001b[39mmean()\n",
      "File \u001b[0;32m~/miniforge3/envs/pycaret_env/lib/python3.8/site-packages/lightfm/lightfm.py:550\u001b[0m, in \u001b[0;36mLightFM.fit\u001b[0;34m(self, interactions, user_features, item_features, sample_weight, epochs, num_threads, verbose)\u001b[0m\n\u001b[1;32m    547\u001b[0m \u001b[38;5;66;03m# Discard old results, if any\u001b[39;00m\n\u001b[1;32m    548\u001b[0m \u001b[38;5;28mself\u001b[39m\u001b[38;5;241m.\u001b[39m_reset_state()\n\u001b[0;32m--> 550\u001b[0m \u001b[38;5;28;01mreturn\u001b[39;00m \u001b[38;5;28;43mself\u001b[39;49m\u001b[38;5;241;43m.\u001b[39;49m\u001b[43mfit_partial\u001b[49m\u001b[43m(\u001b[49m\n\u001b[1;32m    551\u001b[0m \u001b[43m    \u001b[49m\u001b[43minteractions\u001b[49m\u001b[43m,\u001b[49m\n\u001b[1;32m    552\u001b[0m \u001b[43m    \u001b[49m\u001b[43muser_features\u001b[49m\u001b[38;5;241;43m=\u001b[39;49m\u001b[43muser_features\u001b[49m\u001b[43m,\u001b[49m\n\u001b[1;32m    553\u001b[0m \u001b[43m    \u001b[49m\u001b[43mitem_features\u001b[49m\u001b[38;5;241;43m=\u001b[39;49m\u001b[43mitem_features\u001b[49m\u001b[43m,\u001b[49m\n\u001b[1;32m    554\u001b[0m \u001b[43m    \u001b[49m\u001b[43msample_weight\u001b[49m\u001b[38;5;241;43m=\u001b[39;49m\u001b[43msample_weight\u001b[49m\u001b[43m,\u001b[49m\n\u001b[1;32m    555\u001b[0m \u001b[43m    \u001b[49m\u001b[43mepochs\u001b[49m\u001b[38;5;241;43m=\u001b[39;49m\u001b[43mepochs\u001b[49m\u001b[43m,\u001b[49m\n\u001b[1;32m    556\u001b[0m \u001b[43m    \u001b[49m\u001b[43mnum_threads\u001b[49m\u001b[38;5;241;43m=\u001b[39;49m\u001b[43mnum_threads\u001b[49m\u001b[43m,\u001b[49m\n\u001b[1;32m    557\u001b[0m \u001b[43m    \u001b[49m\u001b[43mverbose\u001b[49m\u001b[38;5;241;43m=\u001b[39;49m\u001b[43mverbose\u001b[49m\u001b[43m,\u001b[49m\n\u001b[1;32m    558\u001b[0m \u001b[43m\u001b[49m\u001b[43m)\u001b[49m\n",
      "File \u001b[0;32m~/miniforge3/envs/pycaret_env/lib/python3.8/site-packages/lightfm/lightfm.py:622\u001b[0m, in \u001b[0;36mLightFM.fit_partial\u001b[0;34m(self, interactions, user_features, item_features, sample_weight, epochs, num_threads, verbose)\u001b[0m\n\u001b[1;32m    619\u001b[0m \u001b[38;5;28;01mif\u001b[39;00m interactions\u001b[38;5;241m.\u001b[39mdtype \u001b[38;5;241m!=\u001b[39m CYTHON_DTYPE:\n\u001b[1;32m    620\u001b[0m     interactions\u001b[38;5;241m.\u001b[39mdata \u001b[38;5;241m=\u001b[39m interactions\u001b[38;5;241m.\u001b[39mdata\u001b[38;5;241m.\u001b[39mastype(CYTHON_DTYPE)\n\u001b[0;32m--> 622\u001b[0m sample_weight_data \u001b[38;5;241m=\u001b[39m \u001b[38;5;28;43mself\u001b[39;49m\u001b[38;5;241;43m.\u001b[39;49m\u001b[43m_process_sample_weight\u001b[49m\u001b[43m(\u001b[49m\u001b[43minteractions\u001b[49m\u001b[43m,\u001b[49m\u001b[43m \u001b[49m\u001b[43msample_weight\u001b[49m\u001b[43m)\u001b[49m\n\u001b[1;32m    624\u001b[0m n_users, n_items \u001b[38;5;241m=\u001b[39m interactions\u001b[38;5;241m.\u001b[39mshape\n\u001b[1;32m    625\u001b[0m (user_features, item_features) \u001b[38;5;241m=\u001b[39m \u001b[38;5;28mself\u001b[39m\u001b[38;5;241m.\u001b[39m_construct_feature_matrices(\n\u001b[1;32m    626\u001b[0m     n_users, n_items, user_features, item_features\n\u001b[1;32m    627\u001b[0m )\n",
      "File \u001b[0;32m~/miniforge3/envs/pycaret_env/lib/python3.8/site-packages/lightfm/lightfm.py:402\u001b[0m, in \u001b[0;36mLightFM._process_sample_weight\u001b[0;34m(self, interactions, sample_weight)\u001b[0m\n\u001b[1;32m    394\u001b[0m     \u001b[38;5;28;01mraise\u001b[39;00m \u001b[38;5;167;01mValueError\u001b[39;00m(\n\u001b[1;32m    395\u001b[0m         \u001b[38;5;124m\"\u001b[39m\u001b[38;5;124mSample weight and interactions \u001b[39m\u001b[38;5;124m\"\u001b[39m \u001b[38;5;124m\"\u001b[39m\u001b[38;5;124mmatrices must be the same shape\u001b[39m\u001b[38;5;124m\"\u001b[39m\n\u001b[1;32m    396\u001b[0m     )\n\u001b[1;32m    398\u001b[0m \u001b[38;5;28;01mif\u001b[39;00m \u001b[38;5;129;01mnot\u001b[39;00m (\n\u001b[1;32m    399\u001b[0m     np\u001b[38;5;241m.\u001b[39marray_equal(interactions\u001b[38;5;241m.\u001b[39mrow, sample_weight\u001b[38;5;241m.\u001b[39mrow)\n\u001b[1;32m    400\u001b[0m     \u001b[38;5;129;01mand\u001b[39;00m np\u001b[38;5;241m.\u001b[39marray_equal(interactions\u001b[38;5;241m.\u001b[39mcol, sample_weight\u001b[38;5;241m.\u001b[39mcol)\n\u001b[1;32m    401\u001b[0m ):\n\u001b[0;32m--> 402\u001b[0m     \u001b[38;5;28;01mraise\u001b[39;00m \u001b[38;5;167;01mValueError\u001b[39;00m(\n\u001b[1;32m    403\u001b[0m         \u001b[38;5;124m\"\u001b[39m\u001b[38;5;124mSample weight and interaction matrix \u001b[39m\u001b[38;5;124m\"\u001b[39m\n\u001b[1;32m    404\u001b[0m         \u001b[38;5;124m\"\u001b[39m\u001b[38;5;124mentries must be in the same order\u001b[39m\u001b[38;5;124m\"\u001b[39m\n\u001b[1;32m    405\u001b[0m     )\n\u001b[1;32m    407\u001b[0m \u001b[38;5;28;01mif\u001b[39;00m sample_weight\u001b[38;5;241m.\u001b[39mdata\u001b[38;5;241m.\u001b[39mdtype \u001b[38;5;241m!=\u001b[39m CYTHON_DTYPE:\n\u001b[1;32m    408\u001b[0m     sample_weight_data \u001b[38;5;241m=\u001b[39m sample_weight\u001b[38;5;241m.\u001b[39mdata\u001b[38;5;241m.\u001b[39mastype(CYTHON_DTYPE)\n",
      "\u001b[0;31mValueError\u001b[0m: Sample weight and interaction matrix entries must be in the same order"
     ]
    }
   ],
   "source": [
    "test_random_search()"
   ]
  },
  {
   "cell_type": "code",
   "execution_count": 31,
   "id": "f7d7e4f4-843e-4d9e-8b2c-cb81acce35fe",
   "metadata": {},
   "outputs": [
    {
     "data": {
      "text/plain": [
       "False"
      ]
     },
     "execution_count": 31,
     "metadata": {},
     "output_type": "execute_result"
    }
   ],
   "source": [
    "type(weights) == csr_matrix"
   ]
  },
  {
   "cell_type": "code",
   "execution_count": null,
   "id": "b10dc7f6-19b3-4cf0-8769-b8af22a03f10",
   "metadata": {},
   "outputs": [],
   "source": []
  }
 ],
 "metadata": {
  "kernelspec": {
   "display_name": "Python 3 (ipykernel)",
   "language": "python",
   "name": "python3"
  },
  "language_info": {
   "codemirror_mode": {
    "name": "ipython",
    "version": 3
   },
   "file_extension": ".py",
   "mimetype": "text/x-python",
   "name": "python",
   "nbconvert_exporter": "python",
   "pygments_lexer": "ipython3",
   "version": "3.8.13"
  }
 },
 "nbformat": 4,
 "nbformat_minor": 5
}
